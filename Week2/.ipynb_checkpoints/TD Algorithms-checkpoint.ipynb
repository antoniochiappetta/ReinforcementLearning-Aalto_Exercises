{
 "cells": [
  {
   "cell_type": "markdown",
   "metadata": {},
   "source": [
    "# TD Algorithms"
   ]
  },
  {
   "cell_type": "markdown",
   "metadata": {},
   "source": [
    "### Imports"
   ]
  },
  {
   "cell_type": "code",
   "execution_count": null,
   "metadata": {},
   "outputs": [],
   "source": [
    "import gym\n",
    "import numpy as np\n",
    "import time"
   ]
  },
  {
   "cell_type": "markdown",
   "metadata": {},
   "source": [
    "### Setup"
   ]
  },
  {
   "cell_type": "code",
   "execution_count": null,
   "metadata": {},
   "outputs": [],
   "source": [
    "def init_q(s, a, type=\"ones\"):\n",
    "    \"\"\"\n",
    "    @param s the number of states\n",
    "    @param a the number of actions\n",
    "    @param type random, ones or zeros for the initialization\n",
    "    \"\"\"\n",
    "    if type == \"ones\":\n",
    "        return np.ones((s, a))\n",
    "    elif type == \"random\":\n",
    "        return np.random.random((s, a))\n",
    "    elif type == \"zeros\":\n",
    "        return np.zeros((s, a))"
   ]
  },
  {
   "cell_type": "markdown",
   "metadata": {},
   "source": [
    "### Policies"
   ]
  },
  {
   "cell_type": "code",
   "execution_count": null,
   "metadata": {},
   "outputs": [],
   "source": [
    "def epsilon_greedy(Q, epsilon = 0.1, n_actions, s, train=False):\n",
    "    \"\"\"\n",
    "    @param Q Q values state x action -> value\n",
    "    @param epsilon for exploration\n",
    "    @param s number of states\n",
    "    @param train if true then no random actions selected\n",
    "    \"\"\"\n",
    "    # In some cases, ε is annealed over time to allow\n",
    "    # higher exploration followed by higher exploitation.\n",
    "    if train or np.random.rand() > epsilon:\n",
    "        action = np.argmax(Q[s, :])\n",
    "    else:\n",
    "        action = np.random.randint(0, n_actions)\n",
    "    return action"
   ]
  },
  {
   "cell_type": "markdown",
   "metadata": {},
   "source": [
    "### Q-learning"
   ]
  },
  {
   "cell_type": "code",
   "execution_count": null,
   "metadata": {},
   "outputs": [],
   "source": []
  },
  {
   "cell_type": "markdown",
   "metadata": {},
   "source": [
    "### SARSA"
   ]
  },
  {
   "cell_type": "code",
   "execution_count": null,
   "metadata": {},
   "outputs": [],
   "source": [
    "\"\"\"\n",
    "SARSA on policy learning python implementation.\n",
    "This is a python implementation of the SARSA algorithm in the Sutton and Barto's book on\n",
    "RL. It's called SARSA because - (state, action, reward, state, action). The only difference\n",
    "between SARSA and Qlearning is that SARSA takes the next action based on the current policy\n",
    "while qlearning takes the action with maximum utility of next state.\n",
    "Using the simplest gym environment for brevity: https://gym.openai.com/envs/FrozenLake-v0/\n",
    "\"\"\"\n",
    "\n",
    "def sarsa(alpha, gamma, epsilon, episodes, max_steps, n_tests, render = False, test=False):\n",
    "    \"\"\"\n",
    "    @param alpha learning rate\n",
    "    @param gamma decay factor\n",
    "    @param epsilon for exploration\n",
    "    @param max_steps for max step in each episode\n",
    "    @param n_tests number of test episodes\n",
    "    \"\"\"\n",
    "    env = gym.make('Taxi-v2')\n",
    "    n_states, n_actions = env.observation_space.n, env.action_space.n\n",
    "    Q = init_q(n_states, n_actions, type=\"ones\")\n",
    "    timestep_reward = []\n",
    "    for episode in range(episodes):\n",
    "        print(f\"Episode: {episode}\")\n",
    "        total_reward = 0\n",
    "        s = env.reset()\n",
    "        a = epsilon_greedy(Q, epsilon, n_actions, s)\n",
    "        t = 0\n",
    "        done = False\n",
    "        while t < max_steps:\n",
    "            if render:\n",
    "                env.render()\n",
    "            t += 1\n",
    "            s_, reward, done, info = env.step(a)\n",
    "            total_reward += reward\n",
    "            a_ = epsilon_greedy(Q, epsilon, n_actions, s_)\n",
    "            if done:\n",
    "                Q[s, a] += alpha * ( reward  - Q[s, a] )\n",
    "            else:\n",
    "                Q[s, a] += alpha * ( reward + (gamma * Q[s_, a_] ) - Q[s, a] )\n",
    "            s, a = s_, a_\n",
    "            if done:\n",
    "                if render:\n",
    "                    print(f\"This episode took {t} timesteps and reward {total_reward}\")\n",
    "                timestep_reward.append(total_reward)\n",
    "                break\n",
    "    if render:\n",
    "        print(f\"Here are the Q values:\\n{Q}\\nTesting now:\")\n",
    "    if test:\n",
    "        test_agent(Q, env, n_tests, n_actions)\n",
    "    return timestep_reward\n",
    "\n",
    "def test_agent(Q, env, n_tests, n_actions, delay=0.1):\n",
    "    for test in range(n_tests):\n",
    "        print(f\"Test #{test}\")\n",
    "        s = env.reset()\n",
    "        done = False\n",
    "        epsilon = 0\n",
    "        total_reward = 0\n",
    "        while True:\n",
    "            time.sleep(delay)\n",
    "            env.render()\n",
    "            a = epsilon_greedy(Q, epsilon, n_actions, s, train=True)\n",
    "            print(f\"Chose action {a} for state {s}\")\n",
    "            s, reward, done, info = env.step(a)\n",
    "            total_reward += reward\n",
    "            if done:\n",
    "                print(f\"Episode reward: {total_reward}\")\n",
    "                time.sleep(1)\n",
    "                break"
   ]
  },
  {
   "cell_type": "markdown",
   "metadata": {},
   "source": [
    "### Example"
   ]
  },
  {
   "cell_type": "code",
   "execution_count": null,
   "metadata": {},
   "outputs": [],
   "source": [
    "alpha = 0.4\n",
    "gamma = 0.999\n",
    "epsilon = 0.9\n",
    "episodes = 3000\n",
    "max_steps = 2500\n",
    "n_tests = 20\n",
    "timestep_reward = sarsa(alpha, gamma, epsilon, episodes, max_steps, n_tests)\n",
    "print(timestep_reward)"
   ]
  }
 ],
 "metadata": {
  "kernelspec": {
   "display_name": "Python 3",
   "language": "python",
   "name": "python3"
  },
  "language_info": {
   "codemirror_mode": {
    "name": "ipython",
    "version": 3
   },
   "file_extension": ".py",
   "mimetype": "text/x-python",
   "name": "python",
   "nbconvert_exporter": "python",
   "pygments_lexer": "ipython3",
   "version": "3.7.3"
  }
 },
 "nbformat": 4,
 "nbformat_minor": 2
}
